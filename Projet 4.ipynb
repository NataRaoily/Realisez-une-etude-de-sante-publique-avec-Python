{
 "cells": [
  {
   "cell_type": "markdown",
   "id": "558751d6",
   "metadata": {},
   "source": [
    "# 1) Importation des librairies"
   ]
  },
  {
   "cell_type": "code",
   "execution_count": 2,
   "id": "ea5bff8b",
   "metadata": {},
   "outputs": [],
   "source": [
    "#Manipulation des Dataframes\n",
    "import pandas as pd\n",
    "import numpy as np\n",
    "\n",
    "#Visualisaton des Dataframes\n",
    "import seaborn as sns\n",
    "%matplotlib inline\n",
    "sns.set_theme(style=\"whitegrid\")\n",
    "import matplotlib.pyplot as plt\n",
    "from matplotlib import pyplot\n",
    "\n"
   ]
  },
  {
   "cell_type": "markdown",
   "id": "061c8215",
   "metadata": {},
   "source": [
    "# 2) Observation et nettoyage des donnees"
   ]
  },
  {
   "cell_type": "markdown",
   "id": "413f2ffb",
   "metadata": {},
   "source": [
    "### 2-2) fichier sous-nutrition.csv"
   ]
  },
  {
   "cell_type": "code",
   "execution_count": 7,
   "id": "bacba66b",
   "metadata": {},
   "outputs": [],
   "source": [
    "# chargement du fichier sous-nutrition.csv\n",
    "sn= pd.read_csv('sous_nutrition.csv')"
   ]
  },
  {
   "cell_type": "code",
   "execution_count": 8,
   "id": "78cc7fbf",
   "metadata": {},
   "outputs": [
    {
     "data": {
      "text/html": [
       "<div>\n",
       "<style scoped>\n",
       "    .dataframe tbody tr th:only-of-type {\n",
       "        vertical-align: middle;\n",
       "    }\n",
       "\n",
       "    .dataframe tbody tr th {\n",
       "        vertical-align: top;\n",
       "    }\n",
       "\n",
       "    .dataframe thead th {\n",
       "        text-align: right;\n",
       "    }\n",
       "</style>\n",
       "<table border=\"1\" class=\"dataframe\">\n",
       "  <thead>\n",
       "    <tr style=\"text-align: right;\">\n",
       "      <th></th>\n",
       "      <th>Zone</th>\n",
       "      <th>Année</th>\n",
       "      <th>Valeur</th>\n",
       "    </tr>\n",
       "  </thead>\n",
       "  <tbody>\n",
       "    <tr>\n",
       "      <th>0</th>\n",
       "      <td>Afghanistan</td>\n",
       "      <td>2012-2014</td>\n",
       "      <td>8.6</td>\n",
       "    </tr>\n",
       "    <tr>\n",
       "      <th>1</th>\n",
       "      <td>Afghanistan</td>\n",
       "      <td>2013-2015</td>\n",
       "      <td>8.8</td>\n",
       "    </tr>\n",
       "    <tr>\n",
       "      <th>2</th>\n",
       "      <td>Afghanistan</td>\n",
       "      <td>2014-2016</td>\n",
       "      <td>8.9</td>\n",
       "    </tr>\n",
       "    <tr>\n",
       "      <th>3</th>\n",
       "      <td>Afghanistan</td>\n",
       "      <td>2015-2017</td>\n",
       "      <td>9.7</td>\n",
       "    </tr>\n",
       "    <tr>\n",
       "      <th>4</th>\n",
       "      <td>Afghanistan</td>\n",
       "      <td>2016-2018</td>\n",
       "      <td>10.5</td>\n",
       "    </tr>\n",
       "  </tbody>\n",
       "</table>\n",
       "</div>"
      ],
      "text/plain": [
       "          Zone      Année Valeur\n",
       "0  Afghanistan  2012-2014    8.6\n",
       "1  Afghanistan  2013-2015    8.8\n",
       "2  Afghanistan  2014-2016    8.9\n",
       "3  Afghanistan  2015-2017    9.7\n",
       "4  Afghanistan  2016-2018   10.5"
      ]
     },
     "execution_count": 8,
     "metadata": {},
     "output_type": "execute_result"
    }
   ],
   "source": [
    "# affiche les 5 premières lignes du dataframe\n",
    "sn.head()"
   ]
  },
  {
   "cell_type": "code",
   "execution_count": 4,
   "id": "ad77f604",
   "metadata": {},
   "outputs": [
    {
     "data": {
      "text/plain": [
       "(1218, 3)"
      ]
     },
     "execution_count": 4,
     "metadata": {},
     "output_type": "execute_result"
    }
   ],
   "source": [
    "# donne le nombre de lignes et colonnes du dataframe\n",
    "sn.shape"
   ]
  },
  {
   "cell_type": "code",
   "execution_count": 5,
   "id": "594032fb",
   "metadata": {},
   "outputs": [
    {
     "name": "stdout",
     "output_type": "stream",
     "text": [
      "<class 'pandas.core.frame.DataFrame'>\n",
      "RangeIndex: 1218 entries, 0 to 1217\n",
      "Data columns (total 3 columns):\n",
      " #   Column  Non-Null Count  Dtype \n",
      "---  ------  --------------  ----- \n",
      " 0   Zone    1218 non-null   object\n",
      " 1   Année   1218 non-null   object\n",
      " 2   Valeur  624 non-null    object\n",
      "dtypes: object(3)\n",
      "memory usage: 28.7+ KB\n"
     ]
    }
   ],
   "source": [
    "# donne les informations sur le dataframe\n",
    "sn.info()"
   ]
  },
  {
   "cell_type": "code",
   "execution_count": 6,
   "id": "73817abd",
   "metadata": {},
   "outputs": [
    {
     "data": {
      "text/html": [
       "<div>\n",
       "<style scoped>\n",
       "    .dataframe tbody tr th:only-of-type {\n",
       "        vertical-align: middle;\n",
       "    }\n",
       "\n",
       "    .dataframe tbody tr th {\n",
       "        vertical-align: top;\n",
       "    }\n",
       "\n",
       "    .dataframe thead th {\n",
       "        text-align: right;\n",
       "    }\n",
       "</style>\n",
       "<table border=\"1\" class=\"dataframe\">\n",
       "  <thead>\n",
       "    <tr style=\"text-align: right;\">\n",
       "      <th></th>\n",
       "      <th>Zone</th>\n",
       "      <th>Année</th>\n",
       "      <th>Valeur</th>\n",
       "    </tr>\n",
       "  </thead>\n",
       "  <tbody>\n",
       "    <tr>\n",
       "      <th>24</th>\n",
       "      <td>Allemagne</td>\n",
       "      <td>2012-2014</td>\n",
       "      <td>NaN</td>\n",
       "    </tr>\n",
       "    <tr>\n",
       "      <th>25</th>\n",
       "      <td>Allemagne</td>\n",
       "      <td>2013-2015</td>\n",
       "      <td>NaN</td>\n",
       "    </tr>\n",
       "    <tr>\n",
       "      <th>26</th>\n",
       "      <td>Allemagne</td>\n",
       "      <td>2014-2016</td>\n",
       "      <td>NaN</td>\n",
       "    </tr>\n",
       "    <tr>\n",
       "      <th>27</th>\n",
       "      <td>Allemagne</td>\n",
       "      <td>2015-2017</td>\n",
       "      <td>NaN</td>\n",
       "    </tr>\n",
       "    <tr>\n",
       "      <th>28</th>\n",
       "      <td>Allemagne</td>\n",
       "      <td>2016-2018</td>\n",
       "      <td>NaN</td>\n",
       "    </tr>\n",
       "    <tr>\n",
       "      <th>...</th>\n",
       "      <td>...</td>\n",
       "      <td>...</td>\n",
       "      <td>...</td>\n",
       "    </tr>\n",
       "    <tr>\n",
       "      <th>1213</th>\n",
       "      <td>Zimbabwe</td>\n",
       "      <td>2013-2015</td>\n",
       "      <td>NaN</td>\n",
       "    </tr>\n",
       "    <tr>\n",
       "      <th>1214</th>\n",
       "      <td>Zimbabwe</td>\n",
       "      <td>2014-2016</td>\n",
       "      <td>NaN</td>\n",
       "    </tr>\n",
       "    <tr>\n",
       "      <th>1215</th>\n",
       "      <td>Zimbabwe</td>\n",
       "      <td>2015-2017</td>\n",
       "      <td>NaN</td>\n",
       "    </tr>\n",
       "    <tr>\n",
       "      <th>1216</th>\n",
       "      <td>Zimbabwe</td>\n",
       "      <td>2016-2018</td>\n",
       "      <td>NaN</td>\n",
       "    </tr>\n",
       "    <tr>\n",
       "      <th>1217</th>\n",
       "      <td>Zimbabwe</td>\n",
       "      <td>2017-2019</td>\n",
       "      <td>NaN</td>\n",
       "    </tr>\n",
       "  </tbody>\n",
       "</table>\n",
       "<p>594 rows × 3 columns</p>\n",
       "</div>"
      ],
      "text/plain": [
       "           Zone      Année Valeur\n",
       "24    Allemagne  2012-2014    NaN\n",
       "25    Allemagne  2013-2015    NaN\n",
       "26    Allemagne  2014-2016    NaN\n",
       "27    Allemagne  2015-2017    NaN\n",
       "28    Allemagne  2016-2018    NaN\n",
       "...         ...        ...    ...\n",
       "1213   Zimbabwe  2013-2015    NaN\n",
       "1214   Zimbabwe  2014-2016    NaN\n",
       "1215   Zimbabwe  2015-2017    NaN\n",
       "1216   Zimbabwe  2016-2018    NaN\n",
       "1217   Zimbabwe  2017-2019    NaN\n",
       "\n",
       "[594 rows x 3 columns]"
      ]
     },
     "execution_count": 6,
     "metadata": {},
     "output_type": "execute_result"
    }
   ],
   "source": [
    "\n",
    "sn[sn['Valeur'].isna()]"
   ]
  },
  {
   "cell_type": "code",
   "execution_count": 7,
   "id": "d8754c53",
   "metadata": {},
   "outputs": [],
   "source": [
    "# change la valeur'<0.1' en 'nan' valeur manquante\n",
    "sn['Valeur'].replace('<0.1', np.nan, inplace=True)"
   ]
  },
  {
   "cell_type": "code",
   "execution_count": 8,
   "id": "ad255b83",
   "metadata": {},
   "outputs": [],
   "source": [
    "# change le type de la variable 'Valeur' en type float\n",
    "sn['Valeur'] = sn['Valeur'].astype(float)"
   ]
  },
  {
   "cell_type": "code",
   "execution_count": 9,
   "id": "0c8f47c8",
   "metadata": {},
   "outputs": [
    {
     "data": {
      "text/plain": [
       "Zone       object\n",
       "Année      object\n",
       "Valeur    float64\n",
       "dtype: object"
      ]
     },
     "execution_count": 9,
     "metadata": {},
     "output_type": "execute_result"
    }
   ],
   "source": [
    "# type de chaque colonne\n",
    "sn.dtypes"
   ]
  },
  {
   "cell_type": "code",
   "execution_count": 10,
   "id": "6fa57e7f",
   "metadata": {},
   "outputs": [],
   "source": [
    "# remplace la valeur manquante'nan' par '0'\n",
    "sn.fillna(0, inplace = True)"
   ]
  },
  {
   "cell_type": "code",
   "execution_count": 11,
   "id": "458d0750",
   "metadata": {},
   "outputs": [
    {
     "data": {
      "text/html": [
       "<div>\n",
       "<style scoped>\n",
       "    .dataframe tbody tr th:only-of-type {\n",
       "        vertical-align: middle;\n",
       "    }\n",
       "\n",
       "    .dataframe tbody tr th {\n",
       "        vertical-align: top;\n",
       "    }\n",
       "\n",
       "    .dataframe thead th {\n",
       "        text-align: right;\n",
       "    }\n",
       "</style>\n",
       "<table border=\"1\" class=\"dataframe\">\n",
       "  <thead>\n",
       "    <tr style=\"text-align: right;\">\n",
       "      <th></th>\n",
       "      <th>Pays</th>\n",
       "      <th>Année</th>\n",
       "      <th>popSN</th>\n",
       "    </tr>\n",
       "  </thead>\n",
       "  <tbody>\n",
       "    <tr>\n",
       "      <th>0</th>\n",
       "      <td>Afghanistan</td>\n",
       "      <td>2012-2014</td>\n",
       "      <td>8600000.0</td>\n",
       "    </tr>\n",
       "    <tr>\n",
       "      <th>1</th>\n",
       "      <td>Afghanistan</td>\n",
       "      <td>2013-2015</td>\n",
       "      <td>8800000.0</td>\n",
       "    </tr>\n",
       "    <tr>\n",
       "      <th>2</th>\n",
       "      <td>Afghanistan</td>\n",
       "      <td>2014-2016</td>\n",
       "      <td>8900000.0</td>\n",
       "    </tr>\n",
       "    <tr>\n",
       "      <th>3</th>\n",
       "      <td>Afghanistan</td>\n",
       "      <td>2015-2017</td>\n",
       "      <td>9700000.0</td>\n",
       "    </tr>\n",
       "    <tr>\n",
       "      <th>4</th>\n",
       "      <td>Afghanistan</td>\n",
       "      <td>2016-2018</td>\n",
       "      <td>10500000.0</td>\n",
       "    </tr>\n",
       "    <tr>\n",
       "      <th>...</th>\n",
       "      <td>...</td>\n",
       "      <td>...</td>\n",
       "      <td>...</td>\n",
       "    </tr>\n",
       "    <tr>\n",
       "      <th>1213</th>\n",
       "      <td>Zimbabwe</td>\n",
       "      <td>2013-2015</td>\n",
       "      <td>0.0</td>\n",
       "    </tr>\n",
       "    <tr>\n",
       "      <th>1214</th>\n",
       "      <td>Zimbabwe</td>\n",
       "      <td>2014-2016</td>\n",
       "      <td>0.0</td>\n",
       "    </tr>\n",
       "    <tr>\n",
       "      <th>1215</th>\n",
       "      <td>Zimbabwe</td>\n",
       "      <td>2015-2017</td>\n",
       "      <td>0.0</td>\n",
       "    </tr>\n",
       "    <tr>\n",
       "      <th>1216</th>\n",
       "      <td>Zimbabwe</td>\n",
       "      <td>2016-2018</td>\n",
       "      <td>0.0</td>\n",
       "    </tr>\n",
       "    <tr>\n",
       "      <th>1217</th>\n",
       "      <td>Zimbabwe</td>\n",
       "      <td>2017-2019</td>\n",
       "      <td>0.0</td>\n",
       "    </tr>\n",
       "  </tbody>\n",
       "</table>\n",
       "<p>1218 rows × 3 columns</p>\n",
       "</div>"
      ],
      "text/plain": [
       "             Pays      Année       popSN\n",
       "0     Afghanistan  2012-2014   8600000.0\n",
       "1     Afghanistan  2013-2015   8800000.0\n",
       "2     Afghanistan  2014-2016   8900000.0\n",
       "3     Afghanistan  2015-2017   9700000.0\n",
       "4     Afghanistan  2016-2018  10500000.0\n",
       "...           ...        ...         ...\n",
       "1213     Zimbabwe  2013-2015         0.0\n",
       "1214     Zimbabwe  2014-2016         0.0\n",
       "1215     Zimbabwe  2015-2017         0.0\n",
       "1216     Zimbabwe  2016-2018         0.0\n",
       "1217     Zimbabwe  2017-2019         0.0\n",
       "\n",
       "[1218 rows x 3 columns]"
      ]
     },
     "execution_count": 11,
     "metadata": {},
     "output_type": "execute_result"
    }
   ],
   "source": [
    "# renommer les colonnes \"Zone\" et \"Valeur\" puis mettre en nombre d'habitants\n",
    "sn = sn.rename(columns ={'Zone': 'Pays', 'Valeur': 'popSN'})\n",
    "\n",
    "popsn =['popSN']\n",
    "for pop in popsn:\n",
    "    sn[pop] *=1000000\n",
    "sn\n",
    "    \n",
    "\n"
   ]
  },
  {
   "cell_type": "code",
   "execution_count": 12,
   "id": "1074dcd7",
   "metadata": {},
   "outputs": [],
   "source": [
    "### 2-3) fichier population.csv"
   ]
  },
  {
   "cell_type": "code",
   "execution_count": 13,
   "id": "6a37f844",
   "metadata": {},
   "outputs": [],
   "source": [
    "# chargement du fichier population.csv\n",
    "pop=pd.read_csv('population.csv')"
   ]
  },
  {
   "cell_type": "code",
   "execution_count": 14,
   "id": "b8d7fd82",
   "metadata": {},
   "outputs": [
    {
     "data": {
      "text/html": [
       "<div>\n",
       "<style scoped>\n",
       "    .dataframe tbody tr th:only-of-type {\n",
       "        vertical-align: middle;\n",
       "    }\n",
       "\n",
       "    .dataframe tbody tr th {\n",
       "        vertical-align: top;\n",
       "    }\n",
       "\n",
       "    .dataframe thead th {\n",
       "        text-align: right;\n",
       "    }\n",
       "</style>\n",
       "<table border=\"1\" class=\"dataframe\">\n",
       "  <thead>\n",
       "    <tr style=\"text-align: right;\">\n",
       "      <th></th>\n",
       "      <th>Zone</th>\n",
       "      <th>Année</th>\n",
       "      <th>Valeur</th>\n",
       "    </tr>\n",
       "  </thead>\n",
       "  <tbody>\n",
       "    <tr>\n",
       "      <th>0</th>\n",
       "      <td>Afghanistan</td>\n",
       "      <td>2013</td>\n",
       "      <td>32269.589</td>\n",
       "    </tr>\n",
       "    <tr>\n",
       "      <th>1</th>\n",
       "      <td>Afghanistan</td>\n",
       "      <td>2014</td>\n",
       "      <td>33370.794</td>\n",
       "    </tr>\n",
       "    <tr>\n",
       "      <th>2</th>\n",
       "      <td>Afghanistan</td>\n",
       "      <td>2015</td>\n",
       "      <td>34413.603</td>\n",
       "    </tr>\n",
       "    <tr>\n",
       "      <th>3</th>\n",
       "      <td>Afghanistan</td>\n",
       "      <td>2016</td>\n",
       "      <td>35383.032</td>\n",
       "    </tr>\n",
       "    <tr>\n",
       "      <th>4</th>\n",
       "      <td>Afghanistan</td>\n",
       "      <td>2017</td>\n",
       "      <td>36296.113</td>\n",
       "    </tr>\n",
       "  </tbody>\n",
       "</table>\n",
       "</div>"
      ],
      "text/plain": [
       "          Zone  Année     Valeur\n",
       "0  Afghanistan   2013  32269.589\n",
       "1  Afghanistan   2014  33370.794\n",
       "2  Afghanistan   2015  34413.603\n",
       "3  Afghanistan   2016  35383.032\n",
       "4  Afghanistan   2017  36296.113"
      ]
     },
     "execution_count": 14,
     "metadata": {},
     "output_type": "execute_result"
    }
   ],
   "source": [
    "# affiche les 5 premières lignes du dataframe\n",
    "pop.head()"
   ]
  },
  {
   "cell_type": "code",
   "execution_count": 15,
   "id": "32069637",
   "metadata": {},
   "outputs": [
    {
     "data": {
      "text/plain": [
       "Zone       object\n",
       "Année       int64\n",
       "Valeur    float64\n",
       "dtype: object"
      ]
     },
     "execution_count": 15,
     "metadata": {},
     "output_type": "execute_result"
    }
   ],
   "source": [
    "# type de chaque colonne\n",
    "pop.dtypes"
   ]
  },
  {
   "cell_type": "code",
   "execution_count": 16,
   "id": "4a4be8de",
   "metadata": {},
   "outputs": [
    {
     "data": {
      "text/plain": [
       "(1416, 3)"
      ]
     },
     "execution_count": 16,
     "metadata": {},
     "output_type": "execute_result"
    }
   ],
   "source": [
    "# donne le nombre de lignes et colonnes du dataframe\n",
    "pop.shape"
   ]
  },
  {
   "cell_type": "code",
   "execution_count": 17,
   "id": "a0cf95b0",
   "metadata": {},
   "outputs": [
    {
     "data": {
      "text/html": [
       "<div>\n",
       "<style scoped>\n",
       "    .dataframe tbody tr th:only-of-type {\n",
       "        vertical-align: middle;\n",
       "    }\n",
       "\n",
       "    .dataframe tbody tr th {\n",
       "        vertical-align: top;\n",
       "    }\n",
       "\n",
       "    .dataframe thead th {\n",
       "        text-align: right;\n",
       "    }\n",
       "</style>\n",
       "<table border=\"1\" class=\"dataframe\">\n",
       "  <thead>\n",
       "    <tr style=\"text-align: right;\">\n",
       "      <th></th>\n",
       "      <th>Zone</th>\n",
       "      <th>Année</th>\n",
       "      <th>Valeur</th>\n",
       "    </tr>\n",
       "  </thead>\n",
       "  <tbody>\n",
       "  </tbody>\n",
       "</table>\n",
       "</div>"
      ],
      "text/plain": [
       "Empty DataFrame\n",
       "Columns: [Zone, Année, Valeur]\n",
       "Index: []"
      ]
     },
     "execution_count": 17,
     "metadata": {},
     "output_type": "execute_result"
    }
   ],
   "source": [
    "# montre s'il y a des valeurs manquantes\n",
    "pop[pop['Valeur'].isna()]"
   ]
  },
  {
   "cell_type": "code",
   "execution_count": 18,
   "id": "fe4cd552",
   "metadata": {},
   "outputs": [
    {
     "data": {
      "text/html": [
       "<div>\n",
       "<style scoped>\n",
       "    .dataframe tbody tr th:only-of-type {\n",
       "        vertical-align: middle;\n",
       "    }\n",
       "\n",
       "    .dataframe tbody tr th {\n",
       "        vertical-align: top;\n",
       "    }\n",
       "\n",
       "    .dataframe thead th {\n",
       "        text-align: right;\n",
       "    }\n",
       "</style>\n",
       "<table border=\"1\" class=\"dataframe\">\n",
       "  <thead>\n",
       "    <tr style=\"text-align: right;\">\n",
       "      <th></th>\n",
       "      <th>Pays</th>\n",
       "      <th>Année</th>\n",
       "      <th>population</th>\n",
       "    </tr>\n",
       "  </thead>\n",
       "  <tbody>\n",
       "    <tr>\n",
       "      <th>0</th>\n",
       "      <td>Afghanistan</td>\n",
       "      <td>2013</td>\n",
       "      <td>32269589.0</td>\n",
       "    </tr>\n",
       "    <tr>\n",
       "      <th>1</th>\n",
       "      <td>Afghanistan</td>\n",
       "      <td>2014</td>\n",
       "      <td>33370794.0</td>\n",
       "    </tr>\n",
       "    <tr>\n",
       "      <th>2</th>\n",
       "      <td>Afghanistan</td>\n",
       "      <td>2015</td>\n",
       "      <td>34413603.0</td>\n",
       "    </tr>\n",
       "    <tr>\n",
       "      <th>3</th>\n",
       "      <td>Afghanistan</td>\n",
       "      <td>2016</td>\n",
       "      <td>35383032.0</td>\n",
       "    </tr>\n",
       "    <tr>\n",
       "      <th>4</th>\n",
       "      <td>Afghanistan</td>\n",
       "      <td>2017</td>\n",
       "      <td>36296113.0</td>\n",
       "    </tr>\n",
       "  </tbody>\n",
       "</table>\n",
       "</div>"
      ],
      "text/plain": [
       "          Pays  Année  population\n",
       "0  Afghanistan   2013  32269589.0\n",
       "1  Afghanistan   2014  33370794.0\n",
       "2  Afghanistan   2015  34413603.0\n",
       "3  Afghanistan   2016  35383032.0\n",
       "4  Afghanistan   2017  36296113.0"
      ]
     },
     "execution_count": 18,
     "metadata": {},
     "output_type": "execute_result"
    }
   ],
   "source": [
    "# renommer les colonnes \"Zone\" et \"Valeur\" puis mettre en nombre d'habitants\n",
    "pop = pop.rename(columns ={'Zone': 'Pays', 'Valeur': 'population'})\n",
    "v=['population']\n",
    "\n",
    "for p in v:\n",
    "    pop[p] *=1000\n",
    "pop.head()\n"
   ]
  },
  {
   "cell_type": "markdown",
   "id": "89e5f073",
   "metadata": {},
   "source": [
    "### 2-4) fichier dispo_alimentaire.csv"
   ]
  },
  {
   "cell_type": "code",
   "execution_count": 19,
   "id": "79abb72d",
   "metadata": {
    "scrolled": false
   },
   "outputs": [],
   "source": [
    "#chargement du fichier dispo-alimentaire.csv\n",
    "dispoalim= pd.read_csv('dispo_alimentaire.csv')"
   ]
  },
  {
   "cell_type": "code",
   "execution_count": 20,
   "id": "3f1bdde5",
   "metadata": {
    "scrolled": true
   },
   "outputs": [
    {
     "data": {
      "text/html": [
       "<div>\n",
       "<style scoped>\n",
       "    .dataframe tbody tr th:only-of-type {\n",
       "        vertical-align: middle;\n",
       "    }\n",
       "\n",
       "    .dataframe tbody tr th {\n",
       "        vertical-align: top;\n",
       "    }\n",
       "\n",
       "    .dataframe thead th {\n",
       "        text-align: right;\n",
       "    }\n",
       "</style>\n",
       "<table border=\"1\" class=\"dataframe\">\n",
       "  <thead>\n",
       "    <tr style=\"text-align: right;\">\n",
       "      <th></th>\n",
       "      <th>Zone</th>\n",
       "      <th>Produit</th>\n",
       "      <th>Origine</th>\n",
       "      <th>Aliments pour animaux</th>\n",
       "      <th>Autres Utilisations</th>\n",
       "      <th>Disponibilité alimentaire (Kcal/personne/jour)</th>\n",
       "      <th>Disponibilité alimentaire en quantité (kg/personne/an)</th>\n",
       "      <th>Disponibilité de matière grasse en quantité (g/personne/jour)</th>\n",
       "      <th>Disponibilité de protéines en quantité (g/personne/jour)</th>\n",
       "      <th>Disponibilité intérieure</th>\n",
       "      <th>Exportations - Quantité</th>\n",
       "      <th>Importations - Quantité</th>\n",
       "      <th>Nourriture</th>\n",
       "      <th>Pertes</th>\n",
       "      <th>Production</th>\n",
       "      <th>Semences</th>\n",
       "      <th>Traitement</th>\n",
       "      <th>Variation de stock</th>\n",
       "    </tr>\n",
       "  </thead>\n",
       "  <tbody>\n",
       "    <tr>\n",
       "      <th>0</th>\n",
       "      <td>Afghanistan</td>\n",
       "      <td>Abats Comestible</td>\n",
       "      <td>animale</td>\n",
       "      <td>NaN</td>\n",
       "      <td>NaN</td>\n",
       "      <td>5.0</td>\n",
       "      <td>1.72</td>\n",
       "      <td>0.20</td>\n",
       "      <td>0.77</td>\n",
       "      <td>53.0</td>\n",
       "      <td>NaN</td>\n",
       "      <td>NaN</td>\n",
       "      <td>53.0</td>\n",
       "      <td>NaN</td>\n",
       "      <td>53.0</td>\n",
       "      <td>NaN</td>\n",
       "      <td>NaN</td>\n",
       "      <td>NaN</td>\n",
       "    </tr>\n",
       "    <tr>\n",
       "      <th>1</th>\n",
       "      <td>Afghanistan</td>\n",
       "      <td>Agrumes, Autres</td>\n",
       "      <td>vegetale</td>\n",
       "      <td>NaN</td>\n",
       "      <td>NaN</td>\n",
       "      <td>1.0</td>\n",
       "      <td>1.29</td>\n",
       "      <td>0.01</td>\n",
       "      <td>0.02</td>\n",
       "      <td>41.0</td>\n",
       "      <td>2.0</td>\n",
       "      <td>40.0</td>\n",
       "      <td>39.0</td>\n",
       "      <td>2.0</td>\n",
       "      <td>3.0</td>\n",
       "      <td>NaN</td>\n",
       "      <td>NaN</td>\n",
       "      <td>NaN</td>\n",
       "    </tr>\n",
       "    <tr>\n",
       "      <th>2</th>\n",
       "      <td>Afghanistan</td>\n",
       "      <td>Aliments pour enfants</td>\n",
       "      <td>vegetale</td>\n",
       "      <td>NaN</td>\n",
       "      <td>NaN</td>\n",
       "      <td>1.0</td>\n",
       "      <td>0.06</td>\n",
       "      <td>0.01</td>\n",
       "      <td>0.03</td>\n",
       "      <td>2.0</td>\n",
       "      <td>NaN</td>\n",
       "      <td>2.0</td>\n",
       "      <td>2.0</td>\n",
       "      <td>NaN</td>\n",
       "      <td>NaN</td>\n",
       "      <td>NaN</td>\n",
       "      <td>NaN</td>\n",
       "      <td>NaN</td>\n",
       "    </tr>\n",
       "    <tr>\n",
       "      <th>3</th>\n",
       "      <td>Afghanistan</td>\n",
       "      <td>Ananas</td>\n",
       "      <td>vegetale</td>\n",
       "      <td>NaN</td>\n",
       "      <td>NaN</td>\n",
       "      <td>0.0</td>\n",
       "      <td>0.00</td>\n",
       "      <td>NaN</td>\n",
       "      <td>NaN</td>\n",
       "      <td>0.0</td>\n",
       "      <td>NaN</td>\n",
       "      <td>0.0</td>\n",
       "      <td>0.0</td>\n",
       "      <td>NaN</td>\n",
       "      <td>NaN</td>\n",
       "      <td>NaN</td>\n",
       "      <td>NaN</td>\n",
       "      <td>NaN</td>\n",
       "    </tr>\n",
       "    <tr>\n",
       "      <th>4</th>\n",
       "      <td>Afghanistan</td>\n",
       "      <td>Bananes</td>\n",
       "      <td>vegetale</td>\n",
       "      <td>NaN</td>\n",
       "      <td>NaN</td>\n",
       "      <td>4.0</td>\n",
       "      <td>2.70</td>\n",
       "      <td>0.02</td>\n",
       "      <td>0.05</td>\n",
       "      <td>82.0</td>\n",
       "      <td>NaN</td>\n",
       "      <td>82.0</td>\n",
       "      <td>82.0</td>\n",
       "      <td>NaN</td>\n",
       "      <td>NaN</td>\n",
       "      <td>NaN</td>\n",
       "      <td>NaN</td>\n",
       "      <td>NaN</td>\n",
       "    </tr>\n",
       "  </tbody>\n",
       "</table>\n",
       "</div>"
      ],
      "text/plain": [
       "          Zone                Produit   Origine  Aliments pour animaux  \\\n",
       "0  Afghanistan       Abats Comestible   animale                    NaN   \n",
       "1  Afghanistan        Agrumes, Autres  vegetale                    NaN   \n",
       "2  Afghanistan  Aliments pour enfants  vegetale                    NaN   \n",
       "3  Afghanistan                 Ananas  vegetale                    NaN   \n",
       "4  Afghanistan                Bananes  vegetale                    NaN   \n",
       "\n",
       "   Autres Utilisations  Disponibilité alimentaire (Kcal/personne/jour)  \\\n",
       "0                  NaN                                             5.0   \n",
       "1                  NaN                                             1.0   \n",
       "2                  NaN                                             1.0   \n",
       "3                  NaN                                             0.0   \n",
       "4                  NaN                                             4.0   \n",
       "\n",
       "   Disponibilité alimentaire en quantité (kg/personne/an)  \\\n",
       "0                                               1.72        \n",
       "1                                               1.29        \n",
       "2                                               0.06        \n",
       "3                                               0.00        \n",
       "4                                               2.70        \n",
       "\n",
       "   Disponibilité de matière grasse en quantité (g/personne/jour)  \\\n",
       "0                                               0.20               \n",
       "1                                               0.01               \n",
       "2                                               0.01               \n",
       "3                                                NaN               \n",
       "4                                               0.02               \n",
       "\n",
       "   Disponibilité de protéines en quantité (g/personne/jour)  \\\n",
       "0                                               0.77          \n",
       "1                                               0.02          \n",
       "2                                               0.03          \n",
       "3                                                NaN          \n",
       "4                                               0.05          \n",
       "\n",
       "   Disponibilité intérieure  Exportations - Quantité  Importations - Quantité  \\\n",
       "0                      53.0                      NaN                      NaN   \n",
       "1                      41.0                      2.0                     40.0   \n",
       "2                       2.0                      NaN                      2.0   \n",
       "3                       0.0                      NaN                      0.0   \n",
       "4                      82.0                      NaN                     82.0   \n",
       "\n",
       "   Nourriture  Pertes  Production  Semences  Traitement  Variation de stock  \n",
       "0        53.0     NaN        53.0       NaN         NaN                 NaN  \n",
       "1        39.0     2.0         3.0       NaN         NaN                 NaN  \n",
       "2         2.0     NaN         NaN       NaN         NaN                 NaN  \n",
       "3         0.0     NaN         NaN       NaN         NaN                 NaN  \n",
       "4        82.0     NaN         NaN       NaN         NaN                 NaN  "
      ]
     },
     "execution_count": 20,
     "metadata": {},
     "output_type": "execute_result"
    }
   ],
   "source": [
    "# affiche les 5 premières lignes du jeu de données dispoalim\n",
    "dispoalim.head()"
   ]
  },
  {
   "cell_type": "code",
   "execution_count": 21,
   "id": "f66731c7",
   "metadata": {},
   "outputs": [
    {
     "data": {
      "text/plain": [
       "(15605, 18)"
      ]
     },
     "execution_count": 21,
     "metadata": {},
     "output_type": "execute_result"
    }
   ],
   "source": [
    "dispoalim.shape"
   ]
  },
  {
   "cell_type": "code",
   "execution_count": 22,
   "id": "d6b5f08b",
   "metadata": {},
   "outputs": [
    {
     "data": {
      "text/plain": [
       "Index(['Zone', 'Produit', 'Origine', 'Aliments pour animaux',\n",
       "       'Autres Utilisations', 'Disponibilité alimentaire (Kcal/personne/jour)',\n",
       "       'Disponibilité alimentaire en quantité (kg/personne/an)',\n",
       "       'Disponibilité de matière grasse en quantité (g/personne/jour)',\n",
       "       'Disponibilité de protéines en quantité (g/personne/jour)',\n",
       "       'Disponibilité intérieure', 'Exportations - Quantité',\n",
       "       'Importations - Quantité', 'Nourriture', 'Pertes', 'Production',\n",
       "       'Semences', 'Traitement', 'Variation de stock'],\n",
       "      dtype='object')"
      ]
     },
     "execution_count": 22,
     "metadata": {},
     "output_type": "execute_result"
    }
   ],
   "source": [
    "# affiche les entêtes de tous les colonnes dans le dataframe dispoalim\n",
    "dispoalim.columns"
   ]
  },
  {
   "cell_type": "code",
   "execution_count": 23,
   "id": "39fbd7fc",
   "metadata": {},
   "outputs": [],
   "source": [
    "# conversion de l'unité tonne en kg dans le dataframe dispoalim\n",
    "tonne_en_kg =['Aliments pour animaux', 'Disponibilité intérieure','Exportations - Quantité', 'Importations - Quantité', 'Nourriture',\n",
    "       'Pertes', 'Production', 'Semences', 'Traitement', 'Variation de stock',  'Autres Utilisations']\n",
    "for kg in tonne_en_kg:\n",
    "    dispoalim[kg] *= 1000000"
   ]
  },
  {
   "cell_type": "code",
   "execution_count": 24,
   "id": "911c709b",
   "metadata": {},
   "outputs": [],
   "source": [
    "# remplace les valeurs manquantes par zéro\n",
    "dispoalim.fillna(0, inplace = True)"
   ]
  },
  {
   "cell_type": "code",
   "execution_count": 25,
   "id": "0080c921",
   "metadata": {},
   "outputs": [],
   "source": [
    "dispoalim= dispoalim.rename(columns={'Zone':'Pays'})"
   ]
  },
  {
   "cell_type": "code",
   "execution_count": 26,
   "id": "8cda3be6",
   "metadata": {},
   "outputs": [
    {
     "data": {
      "text/html": [
       "<div>\n",
       "<style scoped>\n",
       "    .dataframe tbody tr th:only-of-type {\n",
       "        vertical-align: middle;\n",
       "    }\n",
       "\n",
       "    .dataframe tbody tr th {\n",
       "        vertical-align: top;\n",
       "    }\n",
       "\n",
       "    .dataframe thead th {\n",
       "        text-align: right;\n",
       "    }\n",
       "</style>\n",
       "<table border=\"1\" class=\"dataframe\">\n",
       "  <thead>\n",
       "    <tr style=\"text-align: right;\">\n",
       "      <th></th>\n",
       "      <th>Pays</th>\n",
       "      <th>Produit</th>\n",
       "      <th>Origine</th>\n",
       "      <th>Aliments pour animaux</th>\n",
       "      <th>Autres Utilisations</th>\n",
       "      <th>Disponibilité alimentaire (Kcal/personne/jour)</th>\n",
       "      <th>Disponibilité alimentaire en quantité (kg/personne/an)</th>\n",
       "      <th>Disponibilité de matière grasse en quantité (g/personne/jour)</th>\n",
       "      <th>Disponibilité de protéines en quantité (g/personne/jour)</th>\n",
       "      <th>Disponibilité intérieure</th>\n",
       "      <th>Exportations - Quantité</th>\n",
       "      <th>Importations - Quantité</th>\n",
       "      <th>Nourriture</th>\n",
       "      <th>Pertes</th>\n",
       "      <th>Production</th>\n",
       "      <th>Semences</th>\n",
       "      <th>Traitement</th>\n",
       "      <th>Variation de stock</th>\n",
       "    </tr>\n",
       "  </thead>\n",
       "  <tbody>\n",
       "    <tr>\n",
       "      <th>0</th>\n",
       "      <td>Afghanistan</td>\n",
       "      <td>Abats Comestible</td>\n",
       "      <td>animale</td>\n",
       "      <td>0.0</td>\n",
       "      <td>0.0</td>\n",
       "      <td>5.0</td>\n",
       "      <td>1.72</td>\n",
       "      <td>0.20</td>\n",
       "      <td>0.77</td>\n",
       "      <td>53000000.0</td>\n",
       "      <td>0.0</td>\n",
       "      <td>0.0</td>\n",
       "      <td>53000000.0</td>\n",
       "      <td>0.0</td>\n",
       "      <td>53000000.0</td>\n",
       "      <td>0.0</td>\n",
       "      <td>0.0</td>\n",
       "      <td>0.0</td>\n",
       "    </tr>\n",
       "    <tr>\n",
       "      <th>1</th>\n",
       "      <td>Afghanistan</td>\n",
       "      <td>Agrumes, Autres</td>\n",
       "      <td>vegetale</td>\n",
       "      <td>0.0</td>\n",
       "      <td>0.0</td>\n",
       "      <td>1.0</td>\n",
       "      <td>1.29</td>\n",
       "      <td>0.01</td>\n",
       "      <td>0.02</td>\n",
       "      <td>41000000.0</td>\n",
       "      <td>2000000.0</td>\n",
       "      <td>40000000.0</td>\n",
       "      <td>39000000.0</td>\n",
       "      <td>2000000.0</td>\n",
       "      <td>3000000.0</td>\n",
       "      <td>0.0</td>\n",
       "      <td>0.0</td>\n",
       "      <td>0.0</td>\n",
       "    </tr>\n",
       "    <tr>\n",
       "      <th>2</th>\n",
       "      <td>Afghanistan</td>\n",
       "      <td>Aliments pour enfants</td>\n",
       "      <td>vegetale</td>\n",
       "      <td>0.0</td>\n",
       "      <td>0.0</td>\n",
       "      <td>1.0</td>\n",
       "      <td>0.06</td>\n",
       "      <td>0.01</td>\n",
       "      <td>0.03</td>\n",
       "      <td>2000000.0</td>\n",
       "      <td>0.0</td>\n",
       "      <td>2000000.0</td>\n",
       "      <td>2000000.0</td>\n",
       "      <td>0.0</td>\n",
       "      <td>0.0</td>\n",
       "      <td>0.0</td>\n",
       "      <td>0.0</td>\n",
       "      <td>0.0</td>\n",
       "    </tr>\n",
       "    <tr>\n",
       "      <th>3</th>\n",
       "      <td>Afghanistan</td>\n",
       "      <td>Ananas</td>\n",
       "      <td>vegetale</td>\n",
       "      <td>0.0</td>\n",
       "      <td>0.0</td>\n",
       "      <td>0.0</td>\n",
       "      <td>0.00</td>\n",
       "      <td>0.00</td>\n",
       "      <td>0.00</td>\n",
       "      <td>0.0</td>\n",
       "      <td>0.0</td>\n",
       "      <td>0.0</td>\n",
       "      <td>0.0</td>\n",
       "      <td>0.0</td>\n",
       "      <td>0.0</td>\n",
       "      <td>0.0</td>\n",
       "      <td>0.0</td>\n",
       "      <td>0.0</td>\n",
       "    </tr>\n",
       "    <tr>\n",
       "      <th>4</th>\n",
       "      <td>Afghanistan</td>\n",
       "      <td>Bananes</td>\n",
       "      <td>vegetale</td>\n",
       "      <td>0.0</td>\n",
       "      <td>0.0</td>\n",
       "      <td>4.0</td>\n",
       "      <td>2.70</td>\n",
       "      <td>0.02</td>\n",
       "      <td>0.05</td>\n",
       "      <td>82000000.0</td>\n",
       "      <td>0.0</td>\n",
       "      <td>82000000.0</td>\n",
       "      <td>82000000.0</td>\n",
       "      <td>0.0</td>\n",
       "      <td>0.0</td>\n",
       "      <td>0.0</td>\n",
       "      <td>0.0</td>\n",
       "      <td>0.0</td>\n",
       "    </tr>\n",
       "  </tbody>\n",
       "</table>\n",
       "</div>"
      ],
      "text/plain": [
       "          Pays                Produit   Origine  Aliments pour animaux  \\\n",
       "0  Afghanistan       Abats Comestible   animale                    0.0   \n",
       "1  Afghanistan        Agrumes, Autres  vegetale                    0.0   \n",
       "2  Afghanistan  Aliments pour enfants  vegetale                    0.0   \n",
       "3  Afghanistan                 Ananas  vegetale                    0.0   \n",
       "4  Afghanistan                Bananes  vegetale                    0.0   \n",
       "\n",
       "   Autres Utilisations  Disponibilité alimentaire (Kcal/personne/jour)  \\\n",
       "0                  0.0                                             5.0   \n",
       "1                  0.0                                             1.0   \n",
       "2                  0.0                                             1.0   \n",
       "3                  0.0                                             0.0   \n",
       "4                  0.0                                             4.0   \n",
       "\n",
       "   Disponibilité alimentaire en quantité (kg/personne/an)  \\\n",
       "0                                               1.72        \n",
       "1                                               1.29        \n",
       "2                                               0.06        \n",
       "3                                               0.00        \n",
       "4                                               2.70        \n",
       "\n",
       "   Disponibilité de matière grasse en quantité (g/personne/jour)  \\\n",
       "0                                               0.20               \n",
       "1                                               0.01               \n",
       "2                                               0.01               \n",
       "3                                               0.00               \n",
       "4                                               0.02               \n",
       "\n",
       "   Disponibilité de protéines en quantité (g/personne/jour)  \\\n",
       "0                                               0.77          \n",
       "1                                               0.02          \n",
       "2                                               0.03          \n",
       "3                                               0.00          \n",
       "4                                               0.05          \n",
       "\n",
       "   Disponibilité intérieure  Exportations - Quantité  Importations - Quantité  \\\n",
       "0                53000000.0                      0.0                      0.0   \n",
       "1                41000000.0                2000000.0               40000000.0   \n",
       "2                 2000000.0                      0.0                2000000.0   \n",
       "3                       0.0                      0.0                      0.0   \n",
       "4                82000000.0                      0.0               82000000.0   \n",
       "\n",
       "   Nourriture     Pertes  Production  Semences  Traitement  Variation de stock  \n",
       "0  53000000.0        0.0  53000000.0       0.0         0.0                 0.0  \n",
       "1  39000000.0  2000000.0   3000000.0       0.0         0.0                 0.0  \n",
       "2   2000000.0        0.0         0.0       0.0         0.0                 0.0  \n",
       "3         0.0        0.0         0.0       0.0         0.0                 0.0  \n",
       "4  82000000.0        0.0         0.0       0.0         0.0                 0.0  "
      ]
     },
     "execution_count": 26,
     "metadata": {},
     "output_type": "execute_result"
    }
   ],
   "source": [
    "dispoalim.head()"
   ]
  },
  {
   "cell_type": "markdown",
   "id": "d4a2bcba",
   "metadata": {},
   "source": [
    "### 2-5) fichier aide_alimentaire.csv"
   ]
  },
  {
   "cell_type": "code",
   "execution_count": 27,
   "id": "9ea33f26",
   "metadata": {},
   "outputs": [],
   "source": [
    "#charge le fichier aide_alimentaire.csv\n",
    "aide_alim= pd.read_csv('aide_alimentaire.csv')"
   ]
  },
  {
   "cell_type": "code",
   "execution_count": 28,
   "id": "ac6d3d52",
   "metadata": {},
   "outputs": [
    {
     "data": {
      "text/html": [
       "<div>\n",
       "<style scoped>\n",
       "    .dataframe tbody tr th:only-of-type {\n",
       "        vertical-align: middle;\n",
       "    }\n",
       "\n",
       "    .dataframe tbody tr th {\n",
       "        vertical-align: top;\n",
       "    }\n",
       "\n",
       "    .dataframe thead th {\n",
       "        text-align: right;\n",
       "    }\n",
       "</style>\n",
       "<table border=\"1\" class=\"dataframe\">\n",
       "  <thead>\n",
       "    <tr style=\"text-align: right;\">\n",
       "      <th></th>\n",
       "      <th>Pays bénéficiaire</th>\n",
       "      <th>Année</th>\n",
       "      <th>Produit</th>\n",
       "      <th>Valeur</th>\n",
       "    </tr>\n",
       "  </thead>\n",
       "  <tbody>\n",
       "    <tr>\n",
       "      <th>0</th>\n",
       "      <td>Afghanistan</td>\n",
       "      <td>2013</td>\n",
       "      <td>Autres non-céréales</td>\n",
       "      <td>682</td>\n",
       "    </tr>\n",
       "    <tr>\n",
       "      <th>1</th>\n",
       "      <td>Afghanistan</td>\n",
       "      <td>2014</td>\n",
       "      <td>Autres non-céréales</td>\n",
       "      <td>335</td>\n",
       "    </tr>\n",
       "    <tr>\n",
       "      <th>2</th>\n",
       "      <td>Afghanistan</td>\n",
       "      <td>2013</td>\n",
       "      <td>Blé et Farin</td>\n",
       "      <td>39224</td>\n",
       "    </tr>\n",
       "    <tr>\n",
       "      <th>3</th>\n",
       "      <td>Afghanistan</td>\n",
       "      <td>2014</td>\n",
       "      <td>Blé et Farin</td>\n",
       "      <td>15160</td>\n",
       "    </tr>\n",
       "    <tr>\n",
       "      <th>4</th>\n",
       "      <td>Afghanistan</td>\n",
       "      <td>2013</td>\n",
       "      <td>Céréales</td>\n",
       "      <td>40504</td>\n",
       "    </tr>\n",
       "  </tbody>\n",
       "</table>\n",
       "</div>"
      ],
      "text/plain": [
       "  Pays bénéficiaire  Année              Produit  Valeur\n",
       "0       Afghanistan   2013  Autres non-céréales     682\n",
       "1       Afghanistan   2014  Autres non-céréales     335\n",
       "2       Afghanistan   2013         Blé et Farin   39224\n",
       "3       Afghanistan   2014         Blé et Farin   15160\n",
       "4       Afghanistan   2013             Céréales   40504"
      ]
     },
     "execution_count": 28,
     "metadata": {},
     "output_type": "execute_result"
    }
   ],
   "source": [
    "# affiche les 5 premières lignes du dataframe\n",
    "aide_alim.head()"
   ]
  },
  {
   "cell_type": "code",
   "execution_count": 29,
   "id": "b2cb369e",
   "metadata": {},
   "outputs": [
    {
     "data": {
      "text/plain": [
       "Pays bénéficiaire    object\n",
       "Année                 int64\n",
       "Produit              object\n",
       "Valeur                int64\n",
       "dtype: object"
      ]
     },
     "execution_count": 29,
     "metadata": {},
     "output_type": "execute_result"
    }
   ],
   "source": [
    "# donne le type de chaque colonne\n",
    "aide_alim.dtypes"
   ]
  },
  {
   "cell_type": "code",
   "execution_count": 30,
   "id": "011e2969",
   "metadata": {},
   "outputs": [
    {
     "data": {
      "text/plain": [
       "(1475, 4)"
      ]
     },
     "execution_count": 30,
     "metadata": {},
     "output_type": "execute_result"
    }
   ],
   "source": [
    "#donne le nombre de lignes et colonnes du dataframe\n",
    "aide_alim.shape"
   ]
  },
  {
   "cell_type": "code",
   "execution_count": 31,
   "id": "73545024",
   "metadata": {},
   "outputs": [
    {
     "data": {
      "text/html": [
       "<div>\n",
       "<style scoped>\n",
       "    .dataframe tbody tr th:only-of-type {\n",
       "        vertical-align: middle;\n",
       "    }\n",
       "\n",
       "    .dataframe tbody tr th {\n",
       "        vertical-align: top;\n",
       "    }\n",
       "\n",
       "    .dataframe thead th {\n",
       "        text-align: right;\n",
       "    }\n",
       "</style>\n",
       "<table border=\"1\" class=\"dataframe\">\n",
       "  <thead>\n",
       "    <tr style=\"text-align: right;\">\n",
       "      <th></th>\n",
       "      <th>Pays</th>\n",
       "      <th>Année</th>\n",
       "      <th>Produit</th>\n",
       "      <th>Quantité aide(kg)</th>\n",
       "    </tr>\n",
       "  </thead>\n",
       "  <tbody>\n",
       "    <tr>\n",
       "      <th>0</th>\n",
       "      <td>Afghanistan</td>\n",
       "      <td>2013</td>\n",
       "      <td>Autres non-céréales</td>\n",
       "      <td>682000</td>\n",
       "    </tr>\n",
       "    <tr>\n",
       "      <th>1</th>\n",
       "      <td>Afghanistan</td>\n",
       "      <td>2014</td>\n",
       "      <td>Autres non-céréales</td>\n",
       "      <td>335000</td>\n",
       "    </tr>\n",
       "    <tr>\n",
       "      <th>2</th>\n",
       "      <td>Afghanistan</td>\n",
       "      <td>2013</td>\n",
       "      <td>Blé et Farin</td>\n",
       "      <td>39224000</td>\n",
       "    </tr>\n",
       "    <tr>\n",
       "      <th>3</th>\n",
       "      <td>Afghanistan</td>\n",
       "      <td>2014</td>\n",
       "      <td>Blé et Farin</td>\n",
       "      <td>15160000</td>\n",
       "    </tr>\n",
       "    <tr>\n",
       "      <th>4</th>\n",
       "      <td>Afghanistan</td>\n",
       "      <td>2013</td>\n",
       "      <td>Céréales</td>\n",
       "      <td>40504000</td>\n",
       "    </tr>\n",
       "  </tbody>\n",
       "</table>\n",
       "</div>"
      ],
      "text/plain": [
       "          Pays  Année              Produit  Quantité aide(kg)\n",
       "0  Afghanistan   2013  Autres non-céréales             682000\n",
       "1  Afghanistan   2014  Autres non-céréales             335000\n",
       "2  Afghanistan   2013         Blé et Farin           39224000\n",
       "3  Afghanistan   2014         Blé et Farin           15160000\n",
       "4  Afghanistan   2013             Céréales           40504000"
      ]
     },
     "execution_count": 31,
     "metadata": {},
     "output_type": "execute_result"
    }
   ],
   "source": [
    "# renommer les colonnes 'Pays bénéficiaire' et 'Valeur' et convertir les tonnes en kg\n",
    "aide_alim=aide_alim.rename(columns={'Pays bénéficiaire':'Pays', 'Valeur':'Quantité aide(kg)'})\n",
    "aide_alim['Quantité aide(kg)'] *=1000\n",
    "aide_alim.head()"
   ]
  },
  {
   "cell_type": "markdown",
   "id": "54cb51f2",
   "metadata": {},
   "source": [
    "# 3) Les principales informations sur l'état de la malnutrition dans le monde\n"
   ]
  },
  {
   "cell_type": "markdown",
   "id": "ba720160",
   "metadata": {},
   "source": [
    "### 3-1) La proportion de personnes en état de sous-nutrition"
   ]
  },
  {
   "cell_type": "code",
   "execution_count": 32,
   "id": "92770730",
   "metadata": {},
   "outputs": [
    {
     "data": {
      "text/html": [
       "<div>\n",
       "<style scoped>\n",
       "    .dataframe tbody tr th:only-of-type {\n",
       "        vertical-align: middle;\n",
       "    }\n",
       "\n",
       "    .dataframe tbody tr th {\n",
       "        vertical-align: top;\n",
       "    }\n",
       "\n",
       "    .dataframe thead th {\n",
       "        text-align: right;\n",
       "    }\n",
       "</style>\n",
       "<table border=\"1\" class=\"dataframe\">\n",
       "  <thead>\n",
       "    <tr style=\"text-align: right;\">\n",
       "      <th></th>\n",
       "      <th>Pays</th>\n",
       "      <th>population</th>\n",
       "      <th>popSN</th>\n",
       "    </tr>\n",
       "  </thead>\n",
       "  <tbody>\n",
       "    <tr>\n",
       "      <th>0</th>\n",
       "      <td>Afghanistan</td>\n",
       "      <td>36296113.0</td>\n",
       "      <td>10500000.0</td>\n",
       "    </tr>\n",
       "    <tr>\n",
       "      <th>1</th>\n",
       "      <td>Afrique du Sud</td>\n",
       "      <td>57009756.0</td>\n",
       "      <td>3100000.0</td>\n",
       "    </tr>\n",
       "    <tr>\n",
       "      <th>2</th>\n",
       "      <td>Albanie</td>\n",
       "      <td>2884169.0</td>\n",
       "      <td>100000.0</td>\n",
       "    </tr>\n",
       "    <tr>\n",
       "      <th>3</th>\n",
       "      <td>Algérie</td>\n",
       "      <td>41389189.0</td>\n",
       "      <td>1300000.0</td>\n",
       "    </tr>\n",
       "    <tr>\n",
       "      <th>4</th>\n",
       "      <td>Allemagne</td>\n",
       "      <td>82658409.0</td>\n",
       "      <td>0.0</td>\n",
       "    </tr>\n",
       "  </tbody>\n",
       "</table>\n",
       "</div>"
      ],
      "text/plain": [
       "             Pays  population       popSN\n",
       "0     Afghanistan  36296113.0  10500000.0\n",
       "1  Afrique du Sud  57009756.0   3100000.0\n",
       "2         Albanie   2884169.0    100000.0\n",
       "3         Algérie  41389189.0   1300000.0\n",
       "4       Allemagne  82658409.0         0.0"
      ]
     },
     "execution_count": 32,
     "metadata": {},
     "output_type": "execute_result"
    }
   ],
   "source": [
    "# jointure des fichiers 'sous_nutrition'et 'population'\n",
    "sn_merge_pop1= pd.merge (pop.loc[pop['Année'] == 2017,[\"Pays\", \"population\"]],\n",
    "                        sn.loc[sn['Année'] == '2016-2018', [\"Pays\", \"popSN\"]],\n",
    "                        on = \"Pays\")\n",
    "sn_merge_pop1.head()"
   ]
  },
  {
   "cell_type": "code",
   "execution_count": 33,
   "id": "091c313f",
   "metadata": {},
   "outputs": [],
   "source": [
    "# ajout d'une nouvelle colonne '% sous nutrition'\n",
    "#sn_merge_pop['% sous nutrition'] = np.nan"
   ]
  },
  {
   "cell_type": "code",
   "execution_count": 34,
   "id": "5d38e1de",
   "metadata": {},
   "outputs": [],
   "source": [
    "# affiche les 5 premières lignes du dataframe 'sn_merge_pop'\n",
    "#sn_merge_pop.head()"
   ]
  },
  {
   "cell_type": "code",
   "execution_count": 35,
   "id": "905a358e",
   "metadata": {},
   "outputs": [],
   "source": [
    "# proportion de la population en sous-nutrition\n",
    "proportion_sousnutri= round((sn_merge_pop1['popSN'].sum()/sn_merge_pop1['population'].sum())*100,2)\n"
   ]
  },
  {
   "cell_type": "code",
   "execution_count": 36,
   "id": "454425d5",
   "metadata": {},
   "outputs": [
    {
     "data": {
      "text/plain": [
       "7543798779.0"
      ]
     },
     "execution_count": 36,
     "metadata": {},
     "output_type": "execute_result"
    }
   ],
   "source": [
    "a=sn_merge_pop1['population'].sum()\n",
    "a"
   ]
  },
  {
   "cell_type": "code",
   "execution_count": 37,
   "id": "a8cb8174",
   "metadata": {},
   "outputs": [
    {
     "name": "stdout",
     "output_type": "stream",
     "text": [
      "Proportion de personnes en sous nutrition: 7.10 %\n"
     ]
    }
   ],
   "source": [
    "print(\"Proportion de personnes en sous nutrition:\", \"{:.2f}\".format(round((sn_merge_pop1['popSN'].sum()/sn_merge_pop1['population'].sum())*100,2)),\"%\")"
   ]
  },
  {
   "cell_type": "markdown",
   "id": "8fa547d9",
   "metadata": {},
   "source": [
    "La proportion de personnes en sous-nutrition est de **7,10%**. <br/>\n",
    "Le calcul du nombre théorique de personnes qui pourrait être nourries à partir de la disponibilité alimentaire peut se calculer sur les kcal ou les protéines. Ici j'ai choisi d'utiliser les kcal. <br/> \n",
    "Pour cela j'ai fait la jointure entre les fichiers 'dispo_alimentaire' et 'population', puis j'ai calculé la disponibilité alimentaire totale par an pour chaque pays. Pour savoir le nombre de personnes qui être nourries dans le monde, j'ai fait la somme de toutes les disponibilités alimentaires de chaque pays."
   ]
  },
  {
   "cell_type": "markdown",
   "id": "525b66a8",
   "metadata": {},
   "source": [
    "### 3-2) Nombre théorique de personnes pouvant être nourries"
   ]
  },
  {
   "cell_type": "code",
   "execution_count": 38,
   "id": "1cffbff5",
   "metadata": {},
   "outputs": [
    {
     "name": "stdout",
     "output_type": "stream",
     "text": [
      "dispoalimentaire totale en kcal: 7635429388975815.0 kcal\n"
     ]
    },
    {
     "data": {
      "text/html": [
       "<div>\n",
       "<style scoped>\n",
       "    .dataframe tbody tr th:only-of-type {\n",
       "        vertical-align: middle;\n",
       "    }\n",
       "\n",
       "    .dataframe tbody tr th {\n",
       "        vertical-align: top;\n",
       "    }\n",
       "\n",
       "    .dataframe thead th {\n",
       "        text-align: right;\n",
       "    }\n",
       "</style>\n",
       "<table border=\"1\" class=\"dataframe\">\n",
       "  <thead>\n",
       "    <tr style=\"text-align: right;\">\n",
       "      <th></th>\n",
       "      <th>Pays</th>\n",
       "      <th>Produit</th>\n",
       "      <th>Origine</th>\n",
       "      <th>Aliments pour animaux</th>\n",
       "      <th>Autres Utilisations</th>\n",
       "      <th>Disponibilité alimentaire (Kcal/personne/jour)</th>\n",
       "      <th>Disponibilité alimentaire en quantité (kg/personne/an)</th>\n",
       "      <th>Disponibilité de matière grasse en quantité (g/personne/jour)</th>\n",
       "      <th>Disponibilité de protéines en quantité (g/personne/jour)</th>\n",
       "      <th>Disponibilité intérieure</th>\n",
       "      <th>Exportations - Quantité</th>\n",
       "      <th>Importations - Quantité</th>\n",
       "      <th>Nourriture</th>\n",
       "      <th>Pertes</th>\n",
       "      <th>Production</th>\n",
       "      <th>Semences</th>\n",
       "      <th>Traitement</th>\n",
       "      <th>Variation de stock</th>\n",
       "      <th>population</th>\n",
       "      <th>dispoalim_pays</th>\n",
       "    </tr>\n",
       "  </thead>\n",
       "  <tbody>\n",
       "    <tr>\n",
       "      <th>0</th>\n",
       "      <td>Afghanistan</td>\n",
       "      <td>Abats Comestible</td>\n",
       "      <td>animale</td>\n",
       "      <td>0.0</td>\n",
       "      <td>0.0</td>\n",
       "      <td>5.0</td>\n",
       "      <td>1.72</td>\n",
       "      <td>0.20</td>\n",
       "      <td>0.77</td>\n",
       "      <td>53000000.0</td>\n",
       "      <td>0.0</td>\n",
       "      <td>0.0</td>\n",
       "      <td>53000000.0</td>\n",
       "      <td>0.0</td>\n",
       "      <td>53000000.0</td>\n",
       "      <td>0.0</td>\n",
       "      <td>0.0</td>\n",
       "      <td>0.0</td>\n",
       "      <td>36296113.0</td>\n",
       "      <td>6.624041e+10</td>\n",
       "    </tr>\n",
       "    <tr>\n",
       "      <th>1</th>\n",
       "      <td>Afghanistan</td>\n",
       "      <td>Agrumes, Autres</td>\n",
       "      <td>vegetale</td>\n",
       "      <td>0.0</td>\n",
       "      <td>0.0</td>\n",
       "      <td>1.0</td>\n",
       "      <td>1.29</td>\n",
       "      <td>0.01</td>\n",
       "      <td>0.02</td>\n",
       "      <td>41000000.0</td>\n",
       "      <td>2000000.0</td>\n",
       "      <td>40000000.0</td>\n",
       "      <td>39000000.0</td>\n",
       "      <td>2000000.0</td>\n",
       "      <td>3000000.0</td>\n",
       "      <td>0.0</td>\n",
       "      <td>0.0</td>\n",
       "      <td>0.0</td>\n",
       "      <td>36296113.0</td>\n",
       "      <td>1.324808e+10</td>\n",
       "    </tr>\n",
       "    <tr>\n",
       "      <th>2</th>\n",
       "      <td>Afghanistan</td>\n",
       "      <td>Aliments pour enfants</td>\n",
       "      <td>vegetale</td>\n",
       "      <td>0.0</td>\n",
       "      <td>0.0</td>\n",
       "      <td>1.0</td>\n",
       "      <td>0.06</td>\n",
       "      <td>0.01</td>\n",
       "      <td>0.03</td>\n",
       "      <td>2000000.0</td>\n",
       "      <td>0.0</td>\n",
       "      <td>2000000.0</td>\n",
       "      <td>2000000.0</td>\n",
       "      <td>0.0</td>\n",
       "      <td>0.0</td>\n",
       "      <td>0.0</td>\n",
       "      <td>0.0</td>\n",
       "      <td>0.0</td>\n",
       "      <td>36296113.0</td>\n",
       "      <td>1.324808e+10</td>\n",
       "    </tr>\n",
       "    <tr>\n",
       "      <th>3</th>\n",
       "      <td>Afghanistan</td>\n",
       "      <td>Ananas</td>\n",
       "      <td>vegetale</td>\n",
       "      <td>0.0</td>\n",
       "      <td>0.0</td>\n",
       "      <td>0.0</td>\n",
       "      <td>0.00</td>\n",
       "      <td>0.00</td>\n",
       "      <td>0.00</td>\n",
       "      <td>0.0</td>\n",
       "      <td>0.0</td>\n",
       "      <td>0.0</td>\n",
       "      <td>0.0</td>\n",
       "      <td>0.0</td>\n",
       "      <td>0.0</td>\n",
       "      <td>0.0</td>\n",
       "      <td>0.0</td>\n",
       "      <td>0.0</td>\n",
       "      <td>36296113.0</td>\n",
       "      <td>0.000000e+00</td>\n",
       "    </tr>\n",
       "    <tr>\n",
       "      <th>4</th>\n",
       "      <td>Afghanistan</td>\n",
       "      <td>Bananes</td>\n",
       "      <td>vegetale</td>\n",
       "      <td>0.0</td>\n",
       "      <td>0.0</td>\n",
       "      <td>4.0</td>\n",
       "      <td>2.70</td>\n",
       "      <td>0.02</td>\n",
       "      <td>0.05</td>\n",
       "      <td>82000000.0</td>\n",
       "      <td>0.0</td>\n",
       "      <td>82000000.0</td>\n",
       "      <td>82000000.0</td>\n",
       "      <td>0.0</td>\n",
       "      <td>0.0</td>\n",
       "      <td>0.0</td>\n",
       "      <td>0.0</td>\n",
       "      <td>0.0</td>\n",
       "      <td>36296113.0</td>\n",
       "      <td>5.299232e+10</td>\n",
       "    </tr>\n",
       "  </tbody>\n",
       "</table>\n",
       "</div>"
      ],
      "text/plain": [
       "          Pays                Produit   Origine  Aliments pour animaux  \\\n",
       "0  Afghanistan       Abats Comestible   animale                    0.0   \n",
       "1  Afghanistan        Agrumes, Autres  vegetale                    0.0   \n",
       "2  Afghanistan  Aliments pour enfants  vegetale                    0.0   \n",
       "3  Afghanistan                 Ananas  vegetale                    0.0   \n",
       "4  Afghanistan                Bananes  vegetale                    0.0   \n",
       "\n",
       "   Autres Utilisations  Disponibilité alimentaire (Kcal/personne/jour)  \\\n",
       "0                  0.0                                             5.0   \n",
       "1                  0.0                                             1.0   \n",
       "2                  0.0                                             1.0   \n",
       "3                  0.0                                             0.0   \n",
       "4                  0.0                                             4.0   \n",
       "\n",
       "   Disponibilité alimentaire en quantité (kg/personne/an)  \\\n",
       "0                                               1.72        \n",
       "1                                               1.29        \n",
       "2                                               0.06        \n",
       "3                                               0.00        \n",
       "4                                               2.70        \n",
       "\n",
       "   Disponibilité de matière grasse en quantité (g/personne/jour)  \\\n",
       "0                                               0.20               \n",
       "1                                               0.01               \n",
       "2                                               0.01               \n",
       "3                                               0.00               \n",
       "4                                               0.02               \n",
       "\n",
       "   Disponibilité de protéines en quantité (g/personne/jour)  \\\n",
       "0                                               0.77          \n",
       "1                                               0.02          \n",
       "2                                               0.03          \n",
       "3                                               0.00          \n",
       "4                                               0.05          \n",
       "\n",
       "   Disponibilité intérieure  Exportations - Quantité  Importations - Quantité  \\\n",
       "0                53000000.0                      0.0                      0.0   \n",
       "1                41000000.0                2000000.0               40000000.0   \n",
       "2                 2000000.0                      0.0                2000000.0   \n",
       "3                       0.0                      0.0                      0.0   \n",
       "4                82000000.0                      0.0               82000000.0   \n",
       "\n",
       "   Nourriture     Pertes  Production  Semences  Traitement  \\\n",
       "0  53000000.0        0.0  53000000.0       0.0         0.0   \n",
       "1  39000000.0  2000000.0   3000000.0       0.0         0.0   \n",
       "2   2000000.0        0.0         0.0       0.0         0.0   \n",
       "3         0.0        0.0         0.0       0.0         0.0   \n",
       "4  82000000.0        0.0         0.0       0.0         0.0   \n",
       "\n",
       "   Variation de stock  population  dispoalim_pays  \n",
       "0                 0.0  36296113.0    6.624041e+10  \n",
       "1                 0.0  36296113.0    1.324808e+10  \n",
       "2                 0.0  36296113.0    1.324808e+10  \n",
       "3                 0.0  36296113.0    0.000000e+00  \n",
       "4                 0.0  36296113.0    5.299232e+10  "
      ]
     },
     "execution_count": 38,
     "metadata": {},
     "output_type": "execute_result"
    }
   ],
   "source": [
    "# jointure des fichiers 'dispo_alimentaire' et 'population'\n",
    "dispoalim_pop = dispoalim.merge(pop.loc[pop[\"Année\"] == 2017, [\"Pays\", \"population\"]],\n",
    "                               on = \"Pays\")\n",
    "dispoalim_pop['dispoalim_pays']=dispoalim_pop[\"Disponibilité alimentaire (Kcal/personne/jour)\"] * dispoalim_pop[\"population\"]*365\n",
    "print(\"dispoalimentaire totale en kcal:\", dispoalim_pop[\"dispoalim_pays\"].sum(), \"kcal\")\n",
    "dispoalim_pop.head()\n"
   ]
  },
  {
   "cell_type": "code",
   "execution_count": 39,
   "id": "6d5c73d2",
   "metadata": {},
   "outputs": [
    {
     "data": {
      "text/plain": [
       "Index(['Pays', 'Produit', 'Origine', 'Aliments pour animaux',\n",
       "       'Autres Utilisations', 'Disponibilité alimentaire (Kcal/personne/jour)',\n",
       "       'Disponibilité alimentaire en quantité (kg/personne/an)',\n",
       "       'Disponibilité de matière grasse en quantité (g/personne/jour)',\n",
       "       'Disponibilité de protéines en quantité (g/personne/jour)',\n",
       "       'Disponibilité intérieure', 'Exportations - Quantité',\n",
       "       'Importations - Quantité', 'Nourriture', 'Pertes', 'Production',\n",
       "       'Semences', 'Traitement', 'Variation de stock', 'population',\n",
       "       'dispoalim_pays'],\n",
       "      dtype='object')"
      ]
     },
     "execution_count": 39,
     "metadata": {},
     "output_type": "execute_result"
    }
   ],
   "source": [
    "dispoalim_pop.columns"
   ]
  },
  {
   "cell_type": "markdown",
   "id": "1571f64e",
   "metadata": {},
   "source": [
    "Il a été trouvé que les besoins en kcal par humain est de : **2500kcal/j**. Je vais utiliser cette valeur pour calculer le nombre total d'être humain qui pourrait etre nourri dans le monde par an.\n",
    "    "
   ]
  },
  {
   "cell_type": "code",
   "execution_count": 40,
   "id": "7ae535aa",
   "metadata": {},
   "outputs": [
    {
     "name": "stdout",
     "output_type": "stream",
     "text": [
      "Nombre total d'être humain pouvant être nourri sur terre:  8367593851\n",
      "Pourcentage d'être humain pouvant être nourri: 110.86 %\n"
     ]
    }
   ],
   "source": [
    "total_kcal = round(dispoalim_pop[\"dispoalim_pays\"].sum()/(2500*365))\n",
    "\n",
    "print(\"Nombre total d'être humain pouvant être nourri sur terre: \", total_kcal)\n",
    "#print(\"Pourcentage d'etre humain pouvant être nourri:\", \"{:.2f}\".format(total_kcal*100/dispoalim_pop.groupby([\"Pays\"])[\"population\"].sum())\n",
    "print(\"Pourcentage d'être humain pouvant être nourri:\", \"{:.2f}\".format(total_kcal*100/pop.loc[pop[\"Année\"]==2017, \"population\"].sum()),\"%\")"
   ]
  },
  {
   "cell_type": "markdown",
   "id": "fd4bcb7e",
   "metadata": {},
   "source": [
    "D'après ces résultats, on peut donc nourrir tout le monde, la famine ou la sous-nutrition ne devrait même pas exister.<br/>\n",
    "Pour calculer le nombre théorique de personnes pouvant être nourries avec les aliments végétaux, j'ai fait un filtre sur l'origine et ensuite j'ai fais la même démarche comme pour  tous les aliments."
   ]
  },
  {
   "cell_type": "markdown",
   "id": "9c7a4fa8",
   "metadata": {},
   "source": [
    "### 3-3) Nombre théorique de personnes pouvant être nourries avec les aliments d'origine végétale"
   ]
  },
  {
   "cell_type": "code",
   "execution_count": 41,
   "id": "074ebed8",
   "metadata": {},
   "outputs": [
    {
     "name": "stdout",
     "output_type": "stream",
     "text": [
      "Le nombre de personnes qui pourrait être nourries avec les aliments végétaux est: 6904305684.6\n",
      "Le pourcentage de personnes  qui pourrait être nourries avec les aliments végétaux est: 91.47 %\n"
     ]
    }
   ],
   "source": [
    "#nombre théorique de personnes nourries avec les aliments végétaux\n",
    "dispoalim_pop['pays']=dispoalim_pop.loc[dispoalim_pop['Origine']=='vegetale', 'Disponibilité alimentaire (Kcal/personne/jour)']*dispoalim_pop['population']\n",
    "total_kcal_veg=round(dispoalim_pop['pays'].sum()/2500,2)\n",
    "print(\"Le nombre de personnes qui pourrait être nourries avec les aliments végétaux est:\",total_kcal_veg)\n",
    "print(\"Le pourcentage de personnes  qui pourrait être nourries avec les aliments végétaux est:\",\"{:.2f}\".format(total_kcal_veg*100/pop.loc[pop[\"Année\"]==2017, \"population\"].sum()), \"%\" )"
   ]
  },
  {
   "cell_type": "markdown",
   "id": "9f81db20",
   "metadata": {},
   "source": [
    "On peut nourrir 91.47% de la population mondiale avec seulement des aliments végétaux. Il existe donc encore beaucoup de disponibilités alimentaires végétaux.<br/>\n",
    "Voyons maintenant comment est répartie la disponibilté intérieure. Pour cela, j'ai utilisé les relations entre la disponibilité intérieure et les 10 variables comme Julien a suggéré."
   ]
  },
  {
   "cell_type": "markdown",
   "id": "e92066df",
   "metadata": {},
   "source": [
    "### 3-4) Utilisation de la disponibilité intérieure"
   ]
  },
  {
   "cell_type": "markdown",
   "id": "9e23a072",
   "metadata": {},
   "source": [
    " **Relation entre la disponibilté intérieure et les 10 variables(formule de Julien) <br/>**\n",
    " **(1)** Disponibilté intérieure= Production+Importation-Exportation+Variation de Stock  <br/>\n",
    " **(2)** Disponibilté intérieure= Nourriture+ Alimentation pour Animaux+ Semences+ Traitement+ Autres Utilisations+ Pertes"
   ]
  },
  {
   "cell_type": "code",
   "execution_count": 42,
   "id": "778ee5e7",
   "metadata": {},
   "outputs": [
    {
     "name": "stdout",
     "output_type": "stream",
     "text": [
      "On utilise 49.41 % de la disponibilité intérieure pour l'alimentation humaine.\n"
     ]
    }
   ],
   "source": [
    "# Proportion Alimentation Humaine\n",
    "alim_humaine=round((dispoalim['Disponibilité intérieure']- (dispoalim['Aliments pour animaux']+dispoalim['Semences']+dispoalim['Traitement']+dispoalim['Autres Utilisations']+dispoalim['Pertes'])).sum()*100/dispoalim['Disponibilité intérieure'].sum(),2)\n",
    "print(\"On utilise\", alim_humaine,\"%\", \"de la disponibilité intérieure pour l'alimentation humaine.\")"
   ]
  },
  {
   "cell_type": "code",
   "execution_count": 43,
   "id": "69e879e1",
   "metadata": {},
   "outputs": [
    {
     "name": "stdout",
     "output_type": "stream",
     "text": [
      "On utilise 13.14 % de la disponibilité intérieure pour l'alimentation animale.\n"
     ]
    }
   ],
   "source": [
    "#Proportion Alimentation animale\n",
    "alim_animale=round((dispoalim['Disponibilité intérieure']- (dispoalim['Nourriture']+dispoalim['Semences']+dispoalim['Traitement']+dispoalim['Autres Utilisations']+dispoalim['Pertes'])).sum()*100/dispoalim['Disponibilité intérieure'].sum(),2)\n",
    "print(\"On utilise\", alim_animale,\"%\", \"de la disponibilité intérieure pour l'alimentation animale.\")"
   ]
  },
  {
   "cell_type": "code",
   "execution_count": 44,
   "id": "8708c4fc",
   "metadata": {},
   "outputs": [
    {
     "name": "stdout",
     "output_type": "stream",
     "text": [
      "Il y a 4.51 % de perte de la disponibilité intérieure.\n"
     ]
    }
   ],
   "source": [
    "#Proportion de la perte de disponibilté intérieure\n",
    "pertes=round((dispoalim['Disponibilité intérieure']- (dispoalim['Nourriture']+dispoalim['Semences']+dispoalim['Traitement']+dispoalim['Autres Utilisations']+dispoalim['Aliments pour animaux'])).sum()*100/dispoalim['Disponibilité intérieure'].sum(),2)\n",
    "print(\"Il y a\",pertes,\"%\", \"de perte de la disponibilité intérieure.\")"
   ]
  },
  {
   "cell_type": "code",
   "execution_count": 45,
   "id": "8c991fbf",
   "metadata": {},
   "outputs": [
    {
     "data": {
      "image/png": "[encoded data removed]",
      "text/plain": [
       "<Figure size 504x504 with 1 Axes>"
      ]
     },
     "metadata": {},
     "output_type": "display_data"
    }
   ],
   "source": [
    "#graphique utilisation de la disponibilité alimentaire\n",
    "pyplot.figure(figsize = (7, 7))\n",
    "semence=round((dispoalim['Disponibilité intérieure']- (dispoalim['Aliments pour animaux']+dispoalim['Nourriture']+dispoalim['Traitement']+dispoalim['Autres Utilisations']+dispoalim['Pertes'])).sum()*100/dispoalim['Disponibilité intérieure'].sum(),2)\n",
    "traitement=round((dispoalim['Disponibilité intérieure']- (dispoalim['Aliments pour animaux']+dispoalim['Semences']+dispoalim['Nourriture']+dispoalim['Autres Utilisations']+dispoalim['Pertes'])).sum()*100/dispoalim['Disponibilité intérieure'].sum(),2)\n",
    "autres_utilisation=round((dispoalim['Disponibilité intérieure']- (dispoalim['Aliments pour animaux']+dispoalim['Semences']+dispoalim['Traitement']+dispoalim['Nourriture']+dispoalim['Pertes'])).sum()*100/dispoalim['Disponibilité intérieure'].sum(),2)\n",
    "pyplot.title('Utilisation de la disponibilité intérieure').set_fontsize(16)\n",
    "x=[alim_humaine, alim_animale, pertes,semence,traitement, autres_utilisation]\n",
    "pyplot.pie(x, labels = ['Nourriture','Alim.animale','Pertes','Semence', 'Traitement', 'Autres utilisations'],\n",
    "           colors = ['red', 'green', 'yellow','blue','purple','grey','purple'],startangle=90,\n",
    "           autopct=lambda x: str(round(x, 2)) + '%',\n",
    "           pctdistance =0.7 , labeldistance =1.1\n",
    "           ,\n",
    "           shadow = False)\n",
    "pyplot.show()\n",
    "\n"
   ]
  },
  {
   "cell_type": "markdown",
   "id": "f4d19bac",
   "metadata": {},
   "source": [
    "### 3-5) Utilisation des céréales"
   ]
  },
  {
   "cell_type": "code",
   "execution_count": 46,
   "id": "999b9209",
   "metadata": {},
   "outputs": [
    {
     "name": "stdout",
     "output_type": "stream",
     "text": [
      "La quantité de céréales destinée pour l'alimentation humaine est: 1029010000000.0 de tonnes, soit 21.10 %\n",
      "Celle destinée à l'alimentation animale est : 873535000000.0 de tonnes, soit 66.98 %\n"
     ]
    }
   ],
   "source": [
    "# Proportion de l'utilisation des céréales destinés pour l'alimentation humaine\n",
    "# liste des produits céréaliers\n",
    "cereales=['Blé', 'Céréales, Autres', 'Maïs', 'Millet','Orge', 'RizBlé', 'Céréales, Autres', 'Maïs', 'Millet','Orge', 'Riz (Eq Blanchi)', 'Avoine', 'Sorgho', 'Seigle', 'Avoine', 'Sorgho', 'Seigle']\n",
    "dispo_cereales=dispoalim[dispoalim['Produit'].isin(cereales)]\n",
    "alim_humains=dispo_cereales['Nourriture'].sum()\n",
    "print(\"La quantité de céréales destinée pour l'alimentation humaine est:\",alim_humains,\"de tonnes, soit\",\"{:.2f}\".format(alim_humains*100/dispoalim['Nourriture'].sum()),\"%\")\n",
    "alim_animaux=dispo_cereales['Aliments pour animaux'].sum()\n",
    "print(\"Celle destinée à l'alimentation animale est :\",alim_animaux, \"de tonnes, soit\",\"{:.2f}\".format(alim_animaux*100/dispoalim['Aliments pour animaux'].sum()),\"%\")\n",
    "                   "
   ]
  },
  {
   "cell_type": "code",
   "execution_count": 47,
   "id": "c36b30cd",
   "metadata": {},
   "outputs": [
    {
     "data": {
      "image/png": "[encoded data removed]",
      "text/plain": [
       "<Figure size 576x576 with 1 Axes>"
      ]
     },
     "metadata": {},
     "output_type": "display_data"
    }
   ],
   "source": [
    "#graphique utilisation des céréales\n",
    "pyplot.figure(figsize = (8, 8))\n",
    "pyplot.title('Utilisation des céréales').set_fontsize(16)\n",
    "semence= dispo_cereales['Semences'].sum()\n",
    "traitement=dispo_cereales['Traitement'].sum()\n",
    "autres_utilisation=dispo_cereales['Autres Utilisations'].sum()\n",
    "x = [alim_humains, alim_animaux, semence,traitement, autres_utilisation]\n",
    "pyplot.pie(x, labels = ['alim.humaine', 'alim.animale', 'Semences', 'Traitement','Autres Utilisations'],\n",
    "           colors = ['red', 'green', 'yellow','blue','purple','grey','purple'],\n",
    "           autopct = lambda x:str( round(x, 2)) + '%',\n",
    "           pctdistance = 0.6, labeldistance =1.1,\n",
    "           shadow = False)\n",
    "pyplot.show()\n"
   ]
  },
  {
   "cell_type": "markdown",
   "id": "5cc5026f",
   "metadata": {},
   "source": [
    "La quantité de céréales destinée à l'alimentation animale est beaucoup plus importante que celle destinée pour les hommes.<br/>\n",
    "Pour la répartition de manioc en Thaïlande, on va regarder spécialement son exportation et sa production en  les comparant avec la proportion de la population en sous-nutrition."
   ]
  },
  {
   "cell_type": "markdown",
   "id": "2bcde2e8",
   "metadata": {},
   "source": [
    "### 3-6) Répartition du manioc en Thailande"
   ]
  },
  {
   "cell_type": "code",
   "execution_count": 48,
   "id": "4efa4b17",
   "metadata": {},
   "outputs": [
    {
     "name": "stdout",
     "output_type": "stream",
     "text": [
      "La Thaïlande a exporté en 2017 25214000000.0 tonnes de manioc, soit 83.41 % de sa production\n"
     ]
    }
   ],
   "source": [
    "# proportion de l'exportation de manioc en Thaïlande\n",
    "exportation_manioc= float(dispoalim.loc[(dispoalim['Produit']=='Manioc') & ( dispoalim['Pays']=='Thaïlande'),\"Exportations - Quantité\"])\n",
    "production_manioc= float(dispoalim.loc[(dispoalim['Produit']=='Manioc') & ( dispoalim['Pays']=='Thaïlande'), \"Production\"])\n",
    "\n",
    "print('La Thaïlande a exporté en 2017', exportation_manioc, 'tonnes de manioc, soit', \"{:.2f}\".format(exportation_manioc*100/production_manioc),\"% de sa production\")\n",
    "#jointure population et population en sous-nutrition\n",
    "proportion_ssnutri=round((sn_merge_pop1.loc[sn_merge_pop1['Pays']=='Thaïlande',\"popSN\"])*100/sn_merge_pop1['population'],2).sum()\n",
    "\n"
   ]
  },
  {
   "cell_type": "markdown",
   "id": "d7549758",
   "metadata": {},
   "source": [
    "## 4) Étude détaillée de la malnutrition "
   ]
  },
  {
   "cell_type": "markdown",
   "id": "4113f3d6",
   "metadata": {},
   "source": [
    "### 4-1) Proportion de la sous-nutrition des pays les plus touchés en 2017"
   ]
  },
  {
   "cell_type": "code",
   "execution_count": 49,
   "id": "213019ec",
   "metadata": {},
   "outputs": [
    {
     "data": {
      "text/html": [
       "<div>\n",
       "<style scoped>\n",
       "    .dataframe tbody tr th:only-of-type {\n",
       "        vertical-align: middle;\n",
       "    }\n",
       "\n",
       "    .dataframe tbody tr th {\n",
       "        vertical-align: top;\n",
       "    }\n",
       "\n",
       "    .dataframe thead th {\n",
       "        text-align: right;\n",
       "    }\n",
       "</style>\n",
       "<table border=\"1\" class=\"dataframe\">\n",
       "  <thead>\n",
       "    <tr style=\"text-align: right;\">\n",
       "      <th></th>\n",
       "      <th>Pays</th>\n",
       "      <th>population</th>\n",
       "      <th>popSN</th>\n",
       "      <th>proportionSN</th>\n",
       "    </tr>\n",
       "  </thead>\n",
       "  <tbody>\n",
       "    <tr>\n",
       "      <th>78</th>\n",
       "      <td>Haïti</td>\n",
       "      <td>10982366.0</td>\n",
       "      <td>5300000.0</td>\n",
       "      <td>48.26</td>\n",
       "    </tr>\n",
       "    <tr>\n",
       "      <th>157</th>\n",
       "      <td>République populaire démocratique de Corée</td>\n",
       "      <td>25429825.0</td>\n",
       "      <td>12000000.0</td>\n",
       "      <td>47.19</td>\n",
       "    </tr>\n",
       "    <tr>\n",
       "      <th>108</th>\n",
       "      <td>Madagascar</td>\n",
       "      <td>25570512.0</td>\n",
       "      <td>10500000.0</td>\n",
       "      <td>41.06</td>\n",
       "    </tr>\n",
       "    <tr>\n",
       "      <th>103</th>\n",
       "      <td>Libéria</td>\n",
       "      <td>4702226.0</td>\n",
       "      <td>1800000.0</td>\n",
       "      <td>38.28</td>\n",
       "    </tr>\n",
       "    <tr>\n",
       "      <th>100</th>\n",
       "      <td>Lesotho</td>\n",
       "      <td>2091534.0</td>\n",
       "      <td>800000.0</td>\n",
       "      <td>38.25</td>\n",
       "    </tr>\n",
       "    <tr>\n",
       "      <th>183</th>\n",
       "      <td>Tchad</td>\n",
       "      <td>15016753.0</td>\n",
       "      <td>5700000.0</td>\n",
       "      <td>37.96</td>\n",
       "    </tr>\n",
       "    <tr>\n",
       "      <th>161</th>\n",
       "      <td>Rwanda</td>\n",
       "      <td>11980961.0</td>\n",
       "      <td>4200000.0</td>\n",
       "      <td>35.06</td>\n",
       "    </tr>\n",
       "    <tr>\n",
       "      <th>121</th>\n",
       "      <td>Mozambique</td>\n",
       "      <td>28649018.0</td>\n",
       "      <td>9400000.0</td>\n",
       "      <td>32.81</td>\n",
       "    </tr>\n",
       "    <tr>\n",
       "      <th>186</th>\n",
       "      <td>Timor-Leste</td>\n",
       "      <td>1243258.0</td>\n",
       "      <td>400000.0</td>\n",
       "      <td>32.17</td>\n",
       "    </tr>\n",
       "    <tr>\n",
       "      <th>0</th>\n",
       "      <td>Afghanistan</td>\n",
       "      <td>36296113.0</td>\n",
       "      <td>10500000.0</td>\n",
       "      <td>28.93</td>\n",
       "    </tr>\n",
       "  </tbody>\n",
       "</table>\n",
       "</div>"
      ],
      "text/plain": [
       "                                           Pays  population       popSN  \\\n",
       "78                                        Haïti  10982366.0   5300000.0   \n",
       "157  République populaire démocratique de Corée  25429825.0  12000000.0   \n",
       "108                                  Madagascar  25570512.0  10500000.0   \n",
       "103                                     Libéria   4702226.0   1800000.0   \n",
       "100                                     Lesotho   2091534.0    800000.0   \n",
       "183                                       Tchad  15016753.0   5700000.0   \n",
       "161                                      Rwanda  11980961.0   4200000.0   \n",
       "121                                  Mozambique  28649018.0   9400000.0   \n",
       "186                                 Timor-Leste   1243258.0    400000.0   \n",
       "0                                   Afghanistan  36296113.0  10500000.0   \n",
       "\n",
       "     proportionSN  \n",
       "78          48.26  \n",
       "157         47.19  \n",
       "108         41.06  \n",
       "103         38.28  \n",
       "100         38.25  \n",
       "183         37.96  \n",
       "161         35.06  \n",
       "121         32.81  \n",
       "186         32.17  \n",
       "0           28.93  "
      ]
     },
     "execution_count": 49,
     "metadata": {},
     "output_type": "execute_result"
    }
   ],
   "source": [
    "#Calcul de la proportion de la sous-nutrition\n",
    "sn_merge_pop1['proportionSN']=round(sn_merge_pop1['popSN']*100/sn_merge_pop1['population'],2)\n",
    "# Pays les plus touchés par la malnutrition\n",
    "sn_merge_pop1.sort_values(by=['proportionSN'], inplace=True, ascending=False)\n",
    "# Les 10 pays où la proportion de sous-nutrition est la plus forte\n",
    "sn_merge_pop1.iloc[:10]\n",
    "\n"
   ]
  },
  {
   "cell_type": "code",
   "execution_count": 50,
   "id": "87a6d545",
   "metadata": {},
   "outputs": [
    {
     "data": {
      "image/png": "[encoded data removed]",
      "text/plain": [
       "<Figure size 576x720 with 1 Axes>"
      ]
     },
     "metadata": {},
     "output_type": "display_data"
    }
   ],
   "source": [
    "plt.figure(figsize=(8,10))\n",
    "sns.barplot(x=sn_merge_pop1.iloc[:10]['Pays'], y=sn_merge_pop1.iloc[:10]['proportionSN'], palette=\"Reds_r\")\n",
    "plt.xlabel('Pays', fontsize=15, color='#c0392b')\n",
    "plt.ylabel(\"Proportion de la sous-nutrition\\n\", fontsize=15, color='#c0392b')\n",
    "plt.title(\"Les 10 Pays les plus touchés par la malnutrtion\\n\", fontsize=18, color='#e74c3c')\n",
    "plt.xticks(rotation= 90)\n",
    "plt.tight_layout()"
   ]
  },
  {
   "cell_type": "markdown",
   "id": "667bf592",
   "metadata": {},
   "source": [
    "Haïti est le pays le plus touché par la malnutrition au monde. <br/>\n",
    "Regardons de près les aides alimentaires reçues par ces pays qui souffrent le plus de sous-nutrition.\n"
   ]
  },
  {
   "cell_type": "markdown",
   "id": "53b65024",
   "metadata": {},
   "source": [
    "### 4-1) Répartition des aides alimentaires"
   ]
  },
  {
   "cell_type": "code",
   "execution_count": 51,
   "id": "881ee80e",
   "metadata": {
    "scrolled": true
   },
   "outputs": [
    {
     "data": {
      "text/html": [
       "<div>\n",
       "<style scoped>\n",
       "    .dataframe tbody tr th:only-of-type {\n",
       "        vertical-align: middle;\n",
       "    }\n",
       "\n",
       "    .dataframe tbody tr th {\n",
       "        vertical-align: top;\n",
       "    }\n",
       "\n",
       "    .dataframe thead th {\n",
       "        text-align: right;\n",
       "    }\n",
       "</style>\n",
       "<table border=\"1\" class=\"dataframe\">\n",
       "  <thead>\n",
       "    <tr style=\"text-align: right;\">\n",
       "      <th></th>\n",
       "      <th>Quantité aide(kg)</th>\n",
       "    </tr>\n",
       "    <tr>\n",
       "      <th>Pays</th>\n",
       "      <th></th>\n",
       "    </tr>\n",
       "  </thead>\n",
       "  <tbody>\n",
       "    <tr>\n",
       "      <th>République arabe syrienne</th>\n",
       "      <td>1858943000</td>\n",
       "    </tr>\n",
       "    <tr>\n",
       "      <th>Éthiopie</th>\n",
       "      <td>1381294000</td>\n",
       "    </tr>\n",
       "    <tr>\n",
       "      <th>Yémen</th>\n",
       "      <td>1206484000</td>\n",
       "    </tr>\n",
       "    <tr>\n",
       "      <th>Soudan du Sud</th>\n",
       "      <td>695248000</td>\n",
       "    </tr>\n",
       "    <tr>\n",
       "      <th>Soudan</th>\n",
       "      <td>669784000</td>\n",
       "    </tr>\n",
       "    <tr>\n",
       "      <th>Kenya</th>\n",
       "      <td>552836000</td>\n",
       "    </tr>\n",
       "    <tr>\n",
       "      <th>Bangladesh</th>\n",
       "      <td>348188000</td>\n",
       "    </tr>\n",
       "    <tr>\n",
       "      <th>Somalie</th>\n",
       "      <td>292678000</td>\n",
       "    </tr>\n",
       "    <tr>\n",
       "      <th>République démocratique du Congo</th>\n",
       "      <td>288502000</td>\n",
       "    </tr>\n",
       "    <tr>\n",
       "      <th>Niger</th>\n",
       "      <td>276344000</td>\n",
       "    </tr>\n",
       "  </tbody>\n",
       "</table>\n",
       "</div>"
      ],
      "text/plain": [
       "                                  Quantité aide(kg)\n",
       "Pays                                               \n",
       "République arabe syrienne                1858943000\n",
       "Éthiopie                                 1381294000\n",
       "Yémen                                    1206484000\n",
       "Soudan du Sud                             695248000\n",
       "Soudan                                    669784000\n",
       "Kenya                                     552836000\n",
       "Bangladesh                                348188000\n",
       "Somalie                                   292678000\n",
       "République démocratique du Congo          288502000\n",
       "Niger                                     276344000"
      ]
     },
     "execution_count": 51,
     "metadata": {},
     "output_type": "execute_result"
    }
   ],
   "source": [
    "aide = aide_alim[[\"Pays\", \"Quantité aide(kg)\"]].groupby(\"Pays\").sum()\n",
    "aide1=aide.sort_values(by=\"Quantité aide(kg)\", ascending=False).iloc[:10]\n",
    "aide1\n"
   ]
  },
  {
   "cell_type": "code",
   "execution_count": 52,
   "id": "d883e712",
   "metadata": {},
   "outputs": [
    {
     "data": {
      "image/png": "[encoded data removed]",
      "text/plain": [
       "<Figure size 576x720 with 1 Axes>"
      ]
     },
     "metadata": {},
     "output_type": "display_data"
    }
   ],
   "source": [
    "plt.figure(figsize=(8,10))\n",
    "sns.barplot(x=aide1.index, y=aide1[\"Quantité aide(kg)\"], palette=\"Blues_r\")\n",
    "plt.xlabel('Pays', fontsize=15, color='#2b60c2')\n",
    "plt.ylabel(\"Quantité aide(kg)\", fontsize=15, color='#2b60c2')\n",
    "plt.title(\"Répartition des aides alimentaires des 10 pays les plus aidés\\n\", fontsize=18, color='#2b60c2')\n",
    "plt.xticks(rotation= 90)\n",
    "plt.tight_layout()"
   ]
  },
  {
   "cell_type": "markdown",
   "id": "f4b91a96",
   "metadata": {},
   "source": [
    "### 4-2) Disponibilté alimentaire par pays et habitant"
   ]
  },
  {
   "cell_type": "code",
   "execution_count": 55,
   "id": "f29c1f22",
   "metadata": {},
   "outputs": [
    {
     "data": {
      "text/html": [
       "<div>\n",
       "<style scoped>\n",
       "    .dataframe tbody tr th:only-of-type {\n",
       "        vertical-align: middle;\n",
       "    }\n",
       "\n",
       "    .dataframe tbody tr th {\n",
       "        vertical-align: top;\n",
       "    }\n",
       "\n",
       "    .dataframe thead th {\n",
       "        text-align: right;\n",
       "    }\n",
       "</style>\n",
       "<table border=\"1\" class=\"dataframe\">\n",
       "  <thead>\n",
       "    <tr style=\"text-align: right;\">\n",
       "      <th></th>\n",
       "      <th>Disponibilité alimentaire (Kcal/personne/jour)</th>\n",
       "    </tr>\n",
       "    <tr>\n",
       "      <th>Pays</th>\n",
       "      <th></th>\n",
       "    </tr>\n",
       "  </thead>\n",
       "  <tbody>\n",
       "    <tr>\n",
       "      <th>Autriche</th>\n",
       "      <td>3770.0</td>\n",
       "    </tr>\n",
       "    <tr>\n",
       "      <th>Belgique</th>\n",
       "      <td>3737.0</td>\n",
       "    </tr>\n",
       "    <tr>\n",
       "      <th>Turquie</th>\n",
       "      <td>3708.0</td>\n",
       "    </tr>\n",
       "    <tr>\n",
       "      <th>États-Unis d'Amérique</th>\n",
       "      <td>3682.0</td>\n",
       "    </tr>\n",
       "    <tr>\n",
       "      <th>Israël</th>\n",
       "      <td>3610.0</td>\n",
       "    </tr>\n",
       "    <tr>\n",
       "      <th>Irlande</th>\n",
       "      <td>3602.0</td>\n",
       "    </tr>\n",
       "    <tr>\n",
       "      <th>Italie</th>\n",
       "      <td>3578.0</td>\n",
       "    </tr>\n",
       "    <tr>\n",
       "      <th>Luxembourg</th>\n",
       "      <td>3540.0</td>\n",
       "    </tr>\n",
       "    <tr>\n",
       "      <th>Égypte</th>\n",
       "      <td>3518.0</td>\n",
       "    </tr>\n",
       "    <tr>\n",
       "      <th>Allemagne</th>\n",
       "      <td>3503.0</td>\n",
       "    </tr>\n",
       "  </tbody>\n",
       "</table>\n",
       "</div>"
      ],
      "text/plain": [
       "                       Disponibilité alimentaire (Kcal/personne/jour)\n",
       "Pays                                                                 \n",
       "Autriche                                                       3770.0\n",
       "Belgique                                                       3737.0\n",
       "Turquie                                                        3708.0\n",
       "États-Unis d'Amérique                                          3682.0\n",
       "Israël                                                         3610.0\n",
       "Irlande                                                        3602.0\n",
       "Italie                                                         3578.0\n",
       "Luxembourg                                                     3540.0\n",
       "Égypte                                                         3518.0\n",
       "Allemagne                                                      3503.0"
      ]
     },
     "execution_count": 55,
     "metadata": {},
     "output_type": "execute_result"
    }
   ],
   "source": [
    "dispoalim_pays = dispoalim[[\"Pays\",\"Disponibilité alimentaire (Kcal/personne/jour)\"]].groupby(\"Pays\").sum()\n",
    "dispoalim_pays1=dispoalim_pays.sort_values(by=\"Disponibilité alimentaire (Kcal/personne/jour)\", ascending=False).head(10)\n",
    "dispoalim_pays1"
   ]
  },
  {
   "cell_type": "code",
   "execution_count": 56,
   "id": "040d36b6",
   "metadata": {},
   "outputs": [
    {
     "data": {
      "image/png": "[encoded data removed]",
      "text/plain": [
       "<Figure size 576x576 with 1 Axes>"
      ]
     },
     "metadata": {},
     "output_type": "display_data"
    }
   ],
   "source": [
    "plt.figure(figsize=(8,8))\n",
    "sns.barplot(x=dispoalim_pays1.index, y=dispoalim_pays1[\"Disponibilité alimentaire (Kcal/personne/jour)\"], palette=\"Greens_r\")\n",
    "plt.xlabel('Pays', fontsize=15, color='#2b60c2')\n",
    "plt.ylabel(\"Disponibilité alimentaire (Kcal/personne/jour)\", fontsize=15, color='#2b60c2')\n",
    "plt.title(\"Les 10 pays dont les disponibilités alimentaires sont importants\", fontsize=18, color='#2b60c2')\n",
    "plt.xticks(rotation= 90)\n",
    "plt.tight_layout()"
   ]
  },
  {
   "cell_type": "code",
   "execution_count": null,
   "id": "d2945cce",
   "metadata": {},
   "outputs": [],
   "source": [
    "df_transaction['time'] = pd.to_datetime(df_transaction['date']).dt.time\n",
    "df_transaction['date'] = pd.to_datetime(df_transaction['date']).dt.date\n"
   ]
  }
 ],
 "metadata": {
  "kernelspec": {
   "display_name": "Python 3 (ipykernel)",
   "language": "python",
   "name": "python3"
  },
  "language_info": {
   "codemirror_mode": {
    "name": "ipython",
    "version": 3
   },
   "file_extension": ".py",
   "mimetype": "text/x-python",
   "name": "python",
   "nbconvert_exporter": "python",
   "pygments_lexer": "ipython3",
   "version": "3.9.7"
  }
 },
 "nbformat": 4,
 "nbformat_minor": 5
}
